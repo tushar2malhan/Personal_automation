{
 "cells": [
  {
   "cell_type": "code",
   "execution_count": 1,
   "id": "7c298eb8",
   "metadata": {},
   "outputs": [],
   "source": [
    "import pandas as pd\n",
    "import numpy as np"
   ]
  },
  {
   "cell_type": "code",
   "execution_count": 3,
   "id": "f505f6b4",
   "metadata": {},
   "outputs": [
    {
     "data": {
      "text/html": [
       "<div>\n",
       "<style scoped>\n",
       "    .dataframe tbody tr th:only-of-type {\n",
       "        vertical-align: middle;\n",
       "    }\n",
       "\n",
       "    .dataframe tbody tr th {\n",
       "        vertical-align: top;\n",
       "    }\n",
       "\n",
       "    .dataframe thead th {\n",
       "        text-align: right;\n",
       "    }\n",
       "</style>\n",
       "<table border=\"1\" class=\"dataframe\">\n",
       "  <thead>\n",
       "    <tr style=\"text-align: right;\">\n",
       "      <th></th>\n",
       "      <th>Category</th>\n",
       "      <th>Message</th>\n",
       "    </tr>\n",
       "  </thead>\n",
       "  <tbody>\n",
       "    <tr>\n",
       "      <th>0</th>\n",
       "      <td>ham</td>\n",
       "      <td>Go until jurong point, crazy.. Available only ...</td>\n",
       "    </tr>\n",
       "    <tr>\n",
       "      <th>1</th>\n",
       "      <td>ham</td>\n",
       "      <td>Ok lar... Joking wif u oni...</td>\n",
       "    </tr>\n",
       "    <tr>\n",
       "      <th>2</th>\n",
       "      <td>spam</td>\n",
       "      <td>Free entry in 2 a wkly comp to win FA Cup fina...</td>\n",
       "    </tr>\n",
       "    <tr>\n",
       "      <th>3</th>\n",
       "      <td>ham</td>\n",
       "      <td>U dun say so early hor... U c already then say...</td>\n",
       "    </tr>\n",
       "    <tr>\n",
       "      <th>4</th>\n",
       "      <td>ham</td>\n",
       "      <td>Nah I don't think he goes to usf, he lives aro...</td>\n",
       "    </tr>\n",
       "  </tbody>\n",
       "</table>\n",
       "</div>"
      ],
      "text/plain": [
       "  Category                                            Message\n",
       "0      ham  Go until jurong point, crazy.. Available only ...\n",
       "1      ham                      Ok lar... Joking wif u oni...\n",
       "2     spam  Free entry in 2 a wkly comp to win FA Cup fina...\n",
       "3      ham  U dun say so early hor... U c already then say...\n",
       "4      ham  Nah I don't think he goes to usf, he lives aro..."
      ]
     },
     "execution_count": 3,
     "metadata": {},
     "output_type": "execute_result"
    }
   ],
   "source": [
    "df = pd.read_csv(\"Naive spam_emails__15.csv\")\n",
    "df.head()"
   ]
  },
  {
   "cell_type": "code",
   "execution_count": 21,
   "id": "7ee202df",
   "metadata": {
    "scrolled": true
   },
   "outputs": [
    {
     "name": "stdout",
     "output_type": "stream",
     "text": [
      "some DET some\n",
      "text NOUN text\n",
      "data NOUN datum\n"
     ]
    }
   ],
   "source": [
    "#import spacy and load the model\n",
    "\n",
    "import spacy\n",
    "nlp = spacy.load(\"en_core_web_sm\")\n",
    "doc = nlp('some text data')\n",
    "for token in doc:\n",
    "    print(token,token.pos_, token.lemma_)"
   ]
  },
  {
   "cell_type": "code",
   "execution_count": 5,
   "id": "5cfd1a51",
   "metadata": {
    "scrolled": true
   },
   "outputs": [
    {
     "data": {
      "text/plain": [
       "ham     4825\n",
       "spam     747\n",
       "Name: Category, dtype: int64"
      ]
     },
     "execution_count": 5,
     "metadata": {},
     "output_type": "execute_result"
    }
   ],
   "source": [
    "df.Category.value_counts()"
   ]
  },
  {
   "cell_type": "code",
   "execution_count": 4,
   "id": "0401a17c",
   "metadata": {},
   "outputs": [],
   "source": [
    "df['spam'] = df['Category'].apply(lambda x: 1 if x =='spam' else 0)"
   ]
  },
  {
   "cell_type": "code",
   "execution_count": 6,
   "id": "ea40a479",
   "metadata": {},
   "outputs": [
    {
     "data": {
      "text/plain": [
       "(5572, 3)"
      ]
     },
     "execution_count": 6,
     "metadata": {},
     "output_type": "execute_result"
    }
   ],
   "source": [
    "df.shape"
   ]
  },
  {
   "cell_type": "code",
   "execution_count": 7,
   "id": "7762d65a",
   "metadata": {},
   "outputs": [],
   "source": [
    "from sklearn.model_selection import train_test_split\n",
    "\n",
    "# here X refers to all the emails - the messages itself\n",
    "# X_train = 80 % emails , X_test = 20 % emails and y_train = 80 % bool and y_test = 20 % bool value\n",
    "# and y refers to spam ie 0 or 1  - we check if message is spam or not \n",
    "X_train, X_test, y_train, y_test = train_test_split(df.Message, df.spam, test_size = 0.2 )\n",
    "\n",
    "# train_test_split takes 2 param , input and output \n",
    "# input == all the emails and output is 0 or 1 \n",
    "# so we train this model in such a way that if any new email comes \n",
    "# we can check is it 0 or 1 ie is it spam or not ! "
   ]
  },
  {
   "cell_type": "code",
   "execution_count": 8,
   "id": "ec273aa4",
   "metadata": {},
   "outputs": [
    {
     "data": {
      "text/plain": [
       "pandas.core.series.Series"
      ]
     },
     "execution_count": 8,
     "metadata": {},
     "output_type": "execute_result"
    }
   ],
   "source": [
    "# after splitting \n",
    "X_train.shape\n",
    "type(X_train)  # type = pandas.core.series.Series"
   ]
  },
  {
   "cell_type": "code",
   "execution_count": 9,
   "id": "82f05551",
   "metadata": {},
   "outputs": [
    {
     "data": {
      "text/plain": [
       "array([\"I lost 4 pounds since my doc visit last week woot woot! Now I'm gonna celebrate by stuffing my face!\",\n",
       "       'Oh! Shit, I thought that was your trip! Loooooool ... That just makes SO much more sense now ... *grins* and the sofa reference was ... The \"sleep on a couch\" link you sent me ... Wasn\\'t that how you went on your trip ? Oh ... And didn\\'t your babe go with you for that celebration with your rents?',\n",
       "       'Ur cash-balance is currently 500 pounds - to maximize ur cash-in now send CASH to 86688 only 150p/msg. CC: 08718720201 PO BOX 114/14 TCR/W1',\n",
       "       ..., \"Okay. I've seen it. So i should pick it on friday?\",\n",
       "       \"Yep get with the program. You're slacking.\",\n",
       "       'Oh ho. Is this the first time u use these type of words'],\n",
       "      dtype=object)"
      ]
     },
     "execution_count": 9,
     "metadata": {},
     "output_type": "execute_result"
    }
   ],
   "source": [
    "X_train\n",
    "y_train[:4]\n",
    "X_train.values"
   ]
  },
  {
   "cell_type": "code",
   "execution_count": 10,
   "id": "78de5dbe",
   "metadata": {},
   "outputs": [
    {
     "data": {
      "text/plain": [
       "<4457x7758 sparse matrix of type '<class 'numpy.int64'>'\n",
       "\twith 59044 stored elements in Compressed Sparse Row format>"
      ]
     },
     "execution_count": 10,
     "metadata": {},
     "output_type": "execute_result"
    }
   ],
   "source": [
    "#  Building vocabulary from countVectorizer  - all unique words \n",
    "# Generated from the emails X_train\n",
    "from sklearn.feature_extraction.text import CountVectorizer\n",
    "\n",
    "v = CountVectorizer()\n",
    "\n",
    "x_train_cv = v.fit_transform(X_train.values) # .values because we dont need the header\n",
    "x_train_cv  # == vocabulary\n",
    "x_train_cv."
   ]
  },
  {
   "cell_type": "code",
   "execution_count": 12,
   "id": "7c161205",
   "metadata": {},
   "outputs": [],
   "source": [
    "#  converting matrix to array\n",
    "# x_train_cv.toarray()\n",
    "\n",
    "# x_train_cv.shape  # total vocabulary = 7801 unique words , out of which 4457 total emails presents\n",
    "\n"
   ]
  },
  {
   "cell_type": "code",
   "execution_count": 12,
   "id": "3e4dea66",
   "metadata": {},
   "outputs": [
    {
     "data": {
      "text/plain": [
       "MultinomialNB()"
      ]
     },
     "execution_count": 12,
     "metadata": {},
     "output_type": "execute_result"
    }
   ],
   "source": [
    "# Creating model taking input as vocalubary\n",
    "# and  output as y_train\n",
    "\n",
    "from sklearn.naive_bayes import MultinomialNB\n",
    "\n",
    "model = MultinomialNB()\n",
    "model.fit(x_train_cv, y_train) \n"
   ]
  },
  {
   "cell_type": "code",
   "execution_count": 13,
   "id": "b77e6e10",
   "metadata": {},
   "outputs": [],
   "source": [
    "x_test_cv = v.transform(X_test)\n"
   ]
  },
  {
   "cell_type": "code",
   "execution_count": 14,
   "id": "854583af",
   "metadata": {},
   "outputs": [
    {
     "name": "stdout",
     "output_type": "stream",
     "text": [
      "              precision    recall  f1-score   support\n",
      "\n",
      "           0       0.99      1.00      0.99       967\n",
      "           1       0.99      0.95      0.97       148\n",
      "\n",
      "    accuracy                           0.99      1115\n",
      "   macro avg       0.99      0.97      0.98      1115\n",
      "weighted avg       0.99      0.99      0.99      1115\n",
      "\n"
     ]
    }
   ],
   "source": [
    "from sklearn.metrics import classification_report\n",
    "\n",
    "y_pred = model.predict(x_test_cv)\n",
    "\n",
    "print(classification_report(y_test, y_pred))"
   ]
  },
  {
   "cell_type": "code",
   "execution_count": 15,
   "id": "9b9d81af",
   "metadata": {
    "scrolled": true
   },
   "outputs": [
    {
     "data": {
      "text/plain": [
       "array([0, 1, 1], dtype=int64)"
      ]
     },
     "execution_count": 15,
     "metadata": {},
     "output_type": "execute_result"
    }
   ],
   "source": [
    "emails = [\n",
    "    'Hey mohan, can we get together to watch footbal game tomorrow?',\n",
    "    'Upto 20% discount on parking, exclusive offer just for you. Dont miss this reward!',\n",
    "    \"Upto 20% discount on parking\"\n",
    "]\n",
    "\n",
    "emails_count = v.transform(emails)\n",
    "model.predict(emails_count)\n",
    "\n",
    "\n",
    "# from emails given above, we get the response as 0 or 1\n",
    "# whether it is spam or not \n",
    "# not 100 % correct ! "
   ]
  },
  {
   "cell_type": "code",
   "execution_count": 16,
   "id": "8a9bc346",
   "metadata": {
    "collapsed": true
   },
   "outputs": [
    {
     "data": {
      "text/plain": [
       "Pipeline(steps=[('vectorizer', CountVectorizer()), ('nb', MultinomialNB())])"
      ]
     },
     "execution_count": 16,
     "metadata": {},
     "output_type": "execute_result"
    }
   ],
   "source": [
    "from sklearn.pipeline import Pipeline\n",
    "\n",
    "clf = Pipeline([\n",
    "    ('vectorizer', CountVectorizer()),\n",
    "    ('nb', MultinomialNB())\n",
    "])\n",
    "clf.fit(X_train, y_train)"
   ]
  },
  {
   "cell_type": "code",
   "execution_count": 5,
   "id": "057ef0d6",
   "metadata": {},
   "outputs": [
    {
     "data": {
      "text/plain": [
       "'Musk wants time prepare trial'"
      ]
     },
     "execution_count": 5,
     "metadata": {},
     "output_type": "execute_result"
    }
   ],
   "source": [
    "#        STOP WORDS\n",
    "\n",
    "from spacy.lang.en.stop_words import STOP_WORDS\n",
    "\n",
    "doc = doc = nlp(\"We just opened our wings, the flying part is coming soon\")\n",
    "\n",
    "# Listed all stop words\n",
    "for token in doc:\n",
    "    if token.is_stop:\n",
    "#         print(token)\n",
    "        ...\n",
    "        \n",
    "def preprocess(text):\n",
    "    \"\"\"\n",
    "    returns the string without STOP WORDS \n",
    "    \"\"\"\n",
    "    doc = nlp(text)\n",
    "    \n",
    "    no_stop_words = [token.text for token in doc if not token.is_stop]\n",
    "    return \" \".join(no_stop_words)  \n",
    "\n",
    "\n",
    "preprocess(\"Musk wants time to prepare for a trial over his\")   # STOP WORDS removed "
   ]
  },
  {
   "cell_type": "code",
   "execution_count": 28,
   "id": "e9e0db74",
   "metadata": {},
   "outputs": [
    {
     "data": {
      "text/plain": [
       "(5572, 3)"
      ]
     },
     "execution_count": 28,
     "metadata": {},
     "output_type": "execute_result"
    }
   ],
   "source": [
    "df.shape"
   ]
  },
  {
   "cell_type": "code",
   "execution_count": 31,
   "id": "92d25853",
   "metadata": {
    "collapsed": true
   },
   "outputs": [
    {
     "data": {
      "text/html": [
       "<div>\n",
       "<style scoped>\n",
       "    .dataframe tbody tr th:only-of-type {\n",
       "        vertical-align: middle;\n",
       "    }\n",
       "\n",
       "    .dataframe tbody tr th {\n",
       "        vertical-align: top;\n",
       "    }\n",
       "\n",
       "    .dataframe thead th {\n",
       "        text-align: right;\n",
       "    }\n",
       "</style>\n",
       "<table border=\"1\" class=\"dataframe\">\n",
       "  <thead>\n",
       "    <tr style=\"text-align: right;\">\n",
       "      <th></th>\n",
       "      <th>Category</th>\n",
       "      <th>Message</th>\n",
       "      <th>spam</th>\n",
       "      <th>message without STOP words</th>\n",
       "    </tr>\n",
       "  </thead>\n",
       "  <tbody>\n",
       "    <tr>\n",
       "      <th>0</th>\n",
       "      <td>ham</td>\n",
       "      <td>Go until jurong point, crazy.. Available only ...</td>\n",
       "      <td>0</td>\n",
       "      <td>jurong point , crazy .. Available bugis n grea...</td>\n",
       "    </tr>\n",
       "    <tr>\n",
       "      <th>1</th>\n",
       "      <td>ham</td>\n",
       "      <td>Ok lar... Joking wif u oni...</td>\n",
       "      <td>0</td>\n",
       "      <td>Ok lar ... Joking wif u oni ...</td>\n",
       "    </tr>\n",
       "    <tr>\n",
       "      <th>2</th>\n",
       "      <td>spam</td>\n",
       "      <td>Free entry in 2 a wkly comp to win FA Cup fina...</td>\n",
       "      <td>1</td>\n",
       "      <td>Free entry 2 wkly comp win FA Cup final tkts 2...</td>\n",
       "    </tr>\n",
       "    <tr>\n",
       "      <th>3</th>\n",
       "      <td>ham</td>\n",
       "      <td>U dun say so early hor... U c already then say...</td>\n",
       "      <td>0</td>\n",
       "      <td>U dun early hor ... U c ...</td>\n",
       "    </tr>\n",
       "    <tr>\n",
       "      <th>4</th>\n",
       "      <td>ham</td>\n",
       "      <td>Nah I don't think he goes to usf, he lives aro...</td>\n",
       "      <td>0</td>\n",
       "      <td>Nah think goes usf , lives</td>\n",
       "    </tr>\n",
       "  </tbody>\n",
       "</table>\n",
       "</div>"
      ],
      "text/plain": [
       "  Category                                            Message  spam  \\\n",
       "0      ham  Go until jurong point, crazy.. Available only ...     0   \n",
       "1      ham                      Ok lar... Joking wif u oni...     0   \n",
       "2     spam  Free entry in 2 a wkly comp to win FA Cup fina...     1   \n",
       "3      ham  U dun say so early hor... U c already then say...     0   \n",
       "4      ham  Nah I don't think he goes to usf, he lives aro...     0   \n",
       "\n",
       "                          message without STOP words  \n",
       "0  jurong point , crazy .. Available bugis n grea...  \n",
       "1                    Ok lar ... Joking wif u oni ...  \n",
       "2  Free entry 2 wkly comp win FA Cup final tkts 2...  \n",
       "3                        U dun early hor ... U c ...  \n",
       "4                         Nah think goes usf , lives  "
      ]
     },
     "execution_count": 31,
     "metadata": {},
     "output_type": "execute_result"
    }
   ],
   "source": [
    " # WILL remove all the stop word for whole column\n",
    "df['message without STOP words'] = df.Message.apply(preprocess)  \n"
   ]
  },
  {
   "cell_type": "code",
   "execution_count": 33,
   "id": "4a62b167",
   "metadata": {
    "collapsed": true
   },
   "outputs": [
    {
     "data": {
      "text/html": [
       "<div>\n",
       "<style scoped>\n",
       "    .dataframe tbody tr th:only-of-type {\n",
       "        vertical-align: middle;\n",
       "    }\n",
       "\n",
       "    .dataframe tbody tr th {\n",
       "        vertical-align: top;\n",
       "    }\n",
       "\n",
       "    .dataframe thead th {\n",
       "        text-align: right;\n",
       "    }\n",
       "</style>\n",
       "<table border=\"1\" class=\"dataframe\">\n",
       "  <thead>\n",
       "    <tr style=\"text-align: right;\">\n",
       "      <th></th>\n",
       "      <th>Category</th>\n",
       "      <th>Message</th>\n",
       "      <th>spam</th>\n",
       "      <th>message without STOP words</th>\n",
       "    </tr>\n",
       "  </thead>\n",
       "  <tbody>\n",
       "    <tr>\n",
       "      <th>0</th>\n",
       "      <td>ham</td>\n",
       "      <td>Go until jurong point, crazy.. Available only ...</td>\n",
       "      <td>0</td>\n",
       "      <td>jurong point , crazy .. Available bugis n grea...</td>\n",
       "    </tr>\n",
       "    <tr>\n",
       "      <th>1</th>\n",
       "      <td>ham</td>\n",
       "      <td>Ok lar... Joking wif u oni...</td>\n",
       "      <td>0</td>\n",
       "      <td>Ok lar ... Joking wif u oni ...</td>\n",
       "    </tr>\n",
       "    <tr>\n",
       "      <th>2</th>\n",
       "      <td>spam</td>\n",
       "      <td>Free entry in 2 a wkly comp to win FA Cup fina...</td>\n",
       "      <td>1</td>\n",
       "      <td>Free entry 2 wkly comp win FA Cup final tkts 2...</td>\n",
       "    </tr>\n",
       "    <tr>\n",
       "      <th>3</th>\n",
       "      <td>ham</td>\n",
       "      <td>U dun say so early hor... U c already then say...</td>\n",
       "      <td>0</td>\n",
       "      <td>U dun early hor ... U c ...</td>\n",
       "    </tr>\n",
       "    <tr>\n",
       "      <th>4</th>\n",
       "      <td>ham</td>\n",
       "      <td>Nah I don't think he goes to usf, he lives aro...</td>\n",
       "      <td>0</td>\n",
       "      <td>Nah think goes usf , lives</td>\n",
       "    </tr>\n",
       "  </tbody>\n",
       "</table>\n",
       "</div>"
      ],
      "text/plain": [
       "  Category                                            Message  spam  \\\n",
       "0      ham  Go until jurong point, crazy.. Available only ...     0   \n",
       "1      ham                      Ok lar... Joking wif u oni...     0   \n",
       "2     spam  Free entry in 2 a wkly comp to win FA Cup fina...     1   \n",
       "3      ham  U dun say so early hor... U c already then say...     0   \n",
       "4      ham  Nah I don't think he goes to usf, he lives aro...     0   \n",
       "\n",
       "                          message without STOP words  \n",
       "0  jurong point , crazy .. Available bugis n grea...  \n",
       "1                    Ok lar ... Joking wif u oni ...  \n",
       "2  Free entry 2 wkly comp win FA Cup final tkts 2...  \n",
       "3                        U dun early hor ... U c ...  \n",
       "4                         Nah think goes usf , lives  "
      ]
     },
     "execution_count": 33,
     "metadata": {},
     "output_type": "execute_result"
    }
   ],
   "source": [
    "df.head()"
   ]
  },
  {
   "cell_type": "code",
   "execution_count": 15,
   "id": "f7c7713a",
   "metadata": {},
   "outputs": [
    {
     "data": {
      "text/plain": [
       "('good movie', 'not good movie')"
      ]
     },
     "execution_count": 15,
     "metadata": {},
     "output_type": "execute_result"
    }
   ],
   "source": [
    "#                                          EXERCISES                                         \n",
    "\n",
    "\n",
    "#  Language translation: Say you want to translate following sentence from english to telugu. \n",
    "#     Before actual translation if you remove stop words and then translate, it will produce horrible result\n",
    "\n",
    "# preprocess(\"how are you doing dhaval?\")\n",
    "\n",
    "#  Sentiment detection: Not always but in some cases,\n",
    "# based on your dataset it can change the sentiment of a sentence if you remove stop words\n",
    "# Exercise 1:\n",
    "\n",
    "# Spacy default implementation considers \"not\" as a stop word. \n",
    "# But in some scenarios removing 'not' will completely change \n",
    "# the meaning of the statement/text. For Example, consider these two statements:\n",
    "    # - this is a good movie       ----> Positive Statement\n",
    "    # - this is not a good movie   ----> Negative Statement\n",
    "\n",
    "preprocess(\"this is a good movie\")   # --> 'good movie'\n",
    "\n",
    "preprocess(\"this is not a good movie\")   # --> 'good movie'\n",
    "\n",
    "\n",
    "#Step1: remove the stopword 'not' in spacy\n",
    "nlp.vocab['not'].is_stop = False\n",
    "\n",
    "#step2: send the two texts given above into the pre-process function and store the transformed texts\n",
    "positive_text = preprocess('this is a good movie')\n",
    "negative_text = preprocess('this is not a good movie')\n",
    "\n",
    "positive_text, negative_text   # --> ('good movie', 'not good movie')\n",
    "\n",
    "\n"
   ]
  },
  {
   "cell_type": "code",
   "execution_count": 8,
   "id": "96b45e19",
   "metadata": {},
   "outputs": [
    {
     "name": "stdout",
     "output_type": "stream",
     "text": [
      "40 120\n",
      "Percentage of Stop words presented in the given text: 33.33333333333333 %\n"
     ]
    }
   ],
   "source": [
    "#  Exercise 2 \n",
    " text = '''\n",
    "Thor: Love and Thunder is a 2022 American superhero film based on Marvel Comics featuring the character Thor, produced by Marvel Studios and \n",
    "distributed by Walt Disney Studios Motion Pictures. It is the sequel to Thor: Ragnarok (2017) and the 29th film in the Marvel Cinematic Universe (MCU).\n",
    "The film is directed by Taika Waititi, who co-wrote the script with Jennifer Kaytin Robinson, and stars Chris Hemsworth as Thor alongside Christian Bale, Tessa Thompson,\n",
    "Jaimie Alexander, Waititi, Russell Crowe, and Natalie Portman. In the film, Thor attempts to find inner peace, but must return to action and recruit Valkyrie (Thompson),\n",
    "Korg (Waititi), and Jane Foster (Portman)—who is now the Mighty Thor—to stop Gorr the God Butcher (Bale) from eliminating all gods.\n",
    "'''\n",
    "stopped_words = 0\n",
    "req_words = 0\n",
    "doc = nlp(text)\n",
    "\n",
    "# Listed all stop words\n",
    "for token in doc:\n",
    "    if token.is_stop:\n",
    "        stopped_words += 1\n",
    "    else:\n",
    "        req_words+=1\n",
    "print(stopped_words, req_words)\n",
    "\n",
    "#step2: print the percentage of stop words compared to total words in the text\n",
    "percentage_stop_words = (stopped_words / req_words) * 100\n",
    "print(f\"Percentage of Stop words presented in the given text: {percentage_stop_words} %\")"
   ]
  },
  {
   "cell_type": "code",
   "execution_count": 61,
   "id": "41a21a66",
   "metadata": {
    "collapsed": true
   },
   "outputs": [
    {
     "data": {
      "text/plain": [
       "{'the': 7,\n",
       " 'india': 6,\n",
       " 'men': 3,\n",
       " 'national': 2,\n",
       " 'cricket': 8,\n",
       " 'team': 4,\n",
       " 'also': 1,\n",
       " 'known': 1,\n",
       " 'as': 1,\n",
       " 'or': 1,\n",
       " 'in': 5,\n",
       " 'blue': 1,\n",
       " 'represents': 1,\n",
       " 'international': 4,\n",
       " 'it': 1,\n",
       " 'is': 2,\n",
       " 'governed': 1,\n",
       " 'by': 2,\n",
       " 'board': 1,\n",
       " 'of': 2,\n",
       " 'control': 1,\n",
       " 'for': 1,\n",
       " 'bcci': 1,\n",
       " 'and': 3,\n",
       " 'a': 1,\n",
       " 'full': 1,\n",
       " 'member': 1,\n",
       " 'council': 1,\n",
       " 'icc': 1,\n",
       " 'with': 1,\n",
       " 'test': 3,\n",
       " 'one': 1,\n",
       " 'day': 1,\n",
       " 'odi': 1,\n",
       " 'status': 2,\n",
       " 'was': 2,\n",
       " 'introduced': 1,\n",
       " 'to': 2,\n",
       " 'british': 1,\n",
       " 'sailors': 1,\n",
       " 'century': 1,\n",
       " 'first': 2,\n",
       " 'club': 1,\n",
       " 'established': 1,\n",
       " 'played': 1,\n",
       " 'its': 1,\n",
       " 'match': 1,\n",
       " 'on': 1,\n",
       " 'june': 1,\n",
       " 'at': 1,\n",
       " 'lord': 1,\n",
       " 'becoming': 1,\n",
       " 'sixth': 1,\n",
       " 'be': 1,\n",
       " 'granted': 1}"
      ]
     },
     "execution_count": 61,
     "metadata": {},
     "output_type": "execute_result"
    }
   ],
   "source": [
    "# Exercise3:\n",
    "\n",
    "# From a given text, output the most frequently used \n",
    "# token after removing all the stop word tokens and punctuations in it.\n",
    "\n",
    "text = ''' The India men's national cricket team, also known as Team India or the Men in Blue, represents India in men's international cricket.\n",
    "It is governed by the Board of Control for Cricket in India (BCCI), and is a Full Member of the International Cricket Council (ICC) with Test,\n",
    "One Day International (ODI) and Twenty20 International (T20I) status. Cricket was introduced to India by British sailors in the 18th century, and the \n",
    "first cricket club was established in 1792. India's national cricket team played its first Test match on 25 June 1932 at Lord's, becoming the sixth team to be\n",
    "granted test cricket status.\n",
    "'''\n",
    "\n",
    "# #step2: remove all the stop words and punctuations and store all the remaining tokens in a new list\n",
    "# remaining_tokens = []\n",
    "# for token in doc:\n",
    "#   if token.is_stop or token.is_punct:    #check whether a given token is stop word or punctuations\n",
    "#     continue\n",
    "#   remaining_tokens.append(token.text)\n",
    "\n",
    "# remaining_tokens\n",
    "total_freq = {}\n",
    "doc = nlp(text)\n",
    "for token in doc:\n",
    "    if not token.is_punct or token.is_stop :\n",
    "            if  token.is_alpha:\n",
    "#                 print(str(token).lower())   # DO THIS OR      token.text    to convert from spacy token to text\n",
    "                token = str(token).lower()\n",
    "                if token in total_freq:\n",
    "                    total_freq[token] +=1\n",
    "                else:\n",
    "                    total_freq[token] =1\n",
    "\n",
    "total_freq\n",
    "\n",
    "                    \n",
    "# FINDING MAX AlPHA comming after \n",
    "# va = 0\n",
    "# for k,v in total_freq.items():\n",
    "#     if v > va:\n",
    "#         va = v\n",
    "#         print(k,v)\n",
    "\n",
    "            \n"
   ]
  },
  {
   "cell_type": "code",
   "execution_count": null,
   "id": "adf7be4a",
   "metadata": {},
   "outputs": [],
   "source": []
  }
 ],
 "metadata": {
  "kernelspec": {
   "display_name": "Python 3 (ipykernel)",
   "language": "python",
   "name": "python3"
  },
  "language_info": {
   "codemirror_mode": {
    "name": "ipython",
    "version": 3
   },
   "file_extension": ".py",
   "mimetype": "text/x-python",
   "name": "python",
   "nbconvert_exporter": "python",
   "pygments_lexer": "ipython3",
   "version": "3.9.12"
  },
  "vscode": {
   "interpreter": {
    "hash": "369f2c481f4da34e4445cda3fffd2e751bd1c4d706f27375911949ba6bb62e1c"
   }
  }
 },
 "nbformat": 4,
 "nbformat_minor": 5
}
