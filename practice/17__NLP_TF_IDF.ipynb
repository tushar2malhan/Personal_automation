{
 "cells": [
  {
   "cell_type": "code",
   "execution_count": 10,
   "id": "6a81fcd8",
   "metadata": {},
   "outputs": [
    {
     "data": {
      "text/plain": [
       "(5937, 2)"
      ]
     },
     "execution_count": 10,
     "metadata": {},
     "output_type": "execute_result"
    }
   ],
   "source": [
    "# For a given comment/text, we are going to use classical NLP techniques \n",
    "# and classify under which emotion that particular comment belongs!\n",
    "\n",
    "# We are going to use techniques like Bag of grams, n-grams, TF-IDF, etc. \n",
    "# for text representation and apply different classification algorithms.\n",
    "\n",
    "# Emotion feature tells whether the given comment is fear 😨, Anger 😡, Joy 😂.\n",
    "# As there are only 3 classes, this problem comes under the Multi-Class Classification.\n",
    "\n",
    "import pandas as pd\n",
    "import numpy as np\n",
    "\n",
    "df = pd.read_csv('Emotion_classify_Data_TF_IDF__17.csv')\n",
    "df.head()"
   ]
  },
  {
   "cell_type": "code",
   "execution_count": 13,
   "id": "e0d92ffb",
   "metadata": {},
   "outputs": [],
   "source": [
    "#                                preprocessing\n",
    "\n",
    "df.Emotion.value_counts()       # all data emotion distribution correct or almost same\n",
    "\n",
    "# Numeric mapping to Emotion column   # can use Label encoder too, but it gives random value, here we assign number \n",
    "df['Emotion_number'] = df.Emotion.map({\n",
    "    \"anger\":0,\n",
    "    \"joy\":1,\n",
    "    \"fear\":2    })\n",
    "\n",
    "\n"
   ]
  },
  {
   "cell_type": "code",
   "execution_count": 14,
   "id": "e3d0d922",
   "metadata": {},
   "outputs": [
    {
     "data": {
      "text/html": [
       "<div>\n",
       "<style scoped>\n",
       "    .dataframe tbody tr th:only-of-type {\n",
       "        vertical-align: middle;\n",
       "    }\n",
       "\n",
       "    .dataframe tbody tr th {\n",
       "        vertical-align: top;\n",
       "    }\n",
       "\n",
       "    .dataframe thead th {\n",
       "        text-align: right;\n",
       "    }\n",
       "</style>\n",
       "<table border=\"1\" class=\"dataframe\">\n",
       "  <thead>\n",
       "    <tr style=\"text-align: right;\">\n",
       "      <th></th>\n",
       "      <th>Comment</th>\n",
       "      <th>Emotion</th>\n",
       "      <th>Emotion_number</th>\n",
       "    </tr>\n",
       "  </thead>\n",
       "  <tbody>\n",
       "    <tr>\n",
       "      <th>0</th>\n",
       "      <td>i seriously hate one subject to death but now ...</td>\n",
       "      <td>fear</td>\n",
       "      <td>2</td>\n",
       "    </tr>\n",
       "    <tr>\n",
       "      <th>1</th>\n",
       "      <td>im so full of life i feel appalled</td>\n",
       "      <td>anger</td>\n",
       "      <td>0</td>\n",
       "    </tr>\n",
       "    <tr>\n",
       "      <th>2</th>\n",
       "      <td>i sit here to write i start to dig out my feel...</td>\n",
       "      <td>fear</td>\n",
       "      <td>2</td>\n",
       "    </tr>\n",
       "    <tr>\n",
       "      <th>3</th>\n",
       "      <td>ive been really angry with r and i feel like a...</td>\n",
       "      <td>joy</td>\n",
       "      <td>1</td>\n",
       "    </tr>\n",
       "    <tr>\n",
       "      <th>4</th>\n",
       "      <td>i feel suspicious if there is no one outside l...</td>\n",
       "      <td>fear</td>\n",
       "      <td>2</td>\n",
       "    </tr>\n",
       "  </tbody>\n",
       "</table>\n",
       "</div>"
      ],
      "text/plain": [
       "                                             Comment Emotion  Emotion_number\n",
       "0  i seriously hate one subject to death but now ...    fear               2\n",
       "1                 im so full of life i feel appalled   anger               0\n",
       "2  i sit here to write i start to dig out my feel...    fear               2\n",
       "3  ive been really angry with r and i feel like a...     joy               1\n",
       "4  i feel suspicious if there is no one outside l...    fear               2"
      ]
     },
     "execution_count": 14,
     "metadata": {},
     "output_type": "execute_result"
    }
   ],
   "source": [
    "df.head()"
   ]
  },
  {
   "cell_type": "code",
   "execution_count": 37,
   "id": "07a9964b",
   "metadata": {},
   "outputs": [
    {
     "name": "stdout",
     "output_type": "stream",
     "text": [
      "clf score for model RandomForestClassifier() and vectorizer TfidfVectorizer() is \n",
      " 0.9065656565656566 \n",
      "\n",
      "clf score for model MultinomialNB() and vectorizer TfidfVectorizer() is \n",
      " 0.8998316498316499 \n",
      "\n",
      "clf score for model RandomForestClassifier() and vectorizer CountVectorizer() is \n",
      " 0.9250841750841751 \n",
      "\n",
      "clf score for model MultinomialNB() and vectorizer CountVectorizer() is \n",
      " 0.882996632996633 \n",
      "\n"
     ]
    }
   ],
   "source": [
    "#                                      Modelling without Pre-processing Text data\n",
    "#  splitting data with input as Comment \n",
    "from sklearn.model_selection import train_test_split\n",
    "\n",
    "X_train, X_test, y_train, y_test = train_test_split(\n",
    "    df.Comment,\n",
    "    df.Emotion,\n",
    "    test_size=0.2,\n",
    "    stratify=df.Emotion_number,\n",
    "    random_state=2022\n",
    ")\n",
    "# X_train.shape, X_test.shape, \n",
    "\n",
    "from sklearn.feature_extraction.text import TfidfVectorizer, CountVectorizer\n",
    "from sklearn.pipeline import Pipeline\n",
    "from sklearn.ensemble import RandomForestClassifier\n",
    "from sklearn.metrics import classification_report\n",
    "from sklearn.naive_bayes import MultinomialNB\n",
    "\n",
    "\n",
    "# Using Pipeline to Train the data \n",
    "vectorizers = [TfidfVectorizer, CountVectorizer]\n",
    "models = [RandomForestClassifier, MultinomialNB ]\n",
    "\n",
    "for each_vectorizers in vectorizers:\n",
    "    for model in models:\n",
    "        clf = Pipeline([\n",
    "            ('each_vectorizers name', each_vectorizers() ),\n",
    "            ('model name', model())\n",
    "        ])\n",
    "        \n",
    "        clf.fit(X_train, y_train)\n",
    "        print(f'clf score for model {model()} and vectorizer {each_vectorizers()} is \\n',clf.score(X_test,y_test),'\\n')\n",
    "\n",
    "\n",
    "#get the predictions for X_test and store it in y_pred\n",
    "# y_pred = clf.predict(X_test)\n",
    "# print(classification_report(y_test, y_pred))\n"
   ]
  }
 ],
 "metadata": {
  "kernelspec": {
   "display_name": "Python 3 (ipykernel)",
   "language": "python",
   "name": "python3"
  },
  "language_info": {
   "codemirror_mode": {
    "name": "ipython",
    "version": 3
   },
   "file_extension": ".py",
   "mimetype": "text/x-python",
   "name": "python",
   "nbconvert_exporter": "python",
   "pygments_lexer": "ipython3",
   "version": "3.9.12"
  }
 },
 "nbformat": 4,
 "nbformat_minor": 5
}
